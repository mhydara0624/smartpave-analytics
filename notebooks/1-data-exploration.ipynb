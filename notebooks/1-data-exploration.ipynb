{
  "cells": [
    {
      "cell_type": "markdown",
      "metadata": {},
      "source": [
        "# SmartPave Analytics: Data Exploration\n",
        "\n",
        "## Overview\n",
        "This notebook explores the pavement condition and maintenance data for 16,000 miles of roadway infrastructure.\n",
        "\n",
        "## Objectives\n",
        "- Load and examine the dataset structure\n",
        "- Understand data quality and completeness\n",
        "- Create initial visualizations\n",
        "- Identify patterns and trends\n",
        "- Prepare for feature engineering\n"
      ]
    },
    {
      "cell_type": "markdown",
      "metadata": {},
      "source": [
        "## Setup and Imports\n"
      ]
    },
    {
      "cell_type": "code",
      "execution_count": null,
      "metadata": {},
      "outputs": [],
      "source": [
        "# Standard imports\n",
        "import pandas as pd\n",
        "import numpy as np\n",
        "import matplotlib.pyplot as plt\n",
        "import seaborn as sns\n",
        "import plotly.express as px\n",
        "import plotly.graph_objects as go\n",
        "from plotly.subplots import make_subplots\n",
        "import warnings\n",
        "warnings.filterwarnings('ignore')\n",
        "\n",
        "# Set plotting style\n",
        "plt.style.use('seaborn-v0_8')\n",
        "sns.set_palette(\"husl\")\n",
        "\n",
        "# Configure pandas display\n",
        "pd.set_option('display.max_columns', None)\n",
        "pd.set_option('display.max_rows', 100)\n",
        "\n",
        "print(\"Libraries imported successfully!\")\n"
      ]
    },
    {
      "cell_type": "markdown",
      "metadata": {},
      "source": [
        "## Data Loading\n"
      ]
    },
    {
      "cell_type": "code",
      "execution_count": null,
      "metadata": {},
      "outputs": [],
      "source": [
        "# Load datasets from Snowflake tables\n",
        "print(\"Loading datasets from Snowflake...\")\n",
        "\n",
        "# Connect to Snowflake (if not already connected)\n",
        "from snowflake.snowpark.context import get_active_session\n",
        "session = get_active_session()\n",
        "\n",
        "# Road network data\n",
        "roads_df = session.sql(\"SELECT * FROM road_network\").to_pandas()\n",
        "print(f\"Road network: {len(roads_df):,} segments\")\n",
        "\n",
        "# Pavement condition data\n",
        "condition_df = session.sql(\"SELECT * FROM pavement_condition\").to_pandas()\n",
        "condition_df['date'] = pd.to_datetime(condition_df['date'])\n",
        "print(f\"Pavement condition: {len(condition_df):,} records\")\n",
        "\n",
        "# Maintenance records\n",
        "maintenance_df = session.sql(\"SELECT * FROM maintenance_records\").to_pandas()\n",
        "maintenance_df['date'] = pd.to_datetime(maintenance_df['date'])\n",
        "print(f\"Maintenance records: {len(maintenance_df):,} records\")\n",
        "\n",
        "# Traffic data\n",
        "traffic_df = session.sql(\"SELECT * FROM traffic_data\").to_pandas()\n",
        "print(f\"Traffic data: {len(traffic_df):,} records\")\n",
        "\n",
        "print(\"\\n✅ All datasets loaded successfully from Snowflake!\")\n"
      ]
    }
  ],
  "metadata": {
    "language_info": {
      "name": "python"
    }
  },
  "nbformat": 4,
  "nbformat_minor": 2
}
