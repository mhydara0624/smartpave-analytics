{
  "cells": [
    {
      "cell_type": "markdown",
      "metadata": {},
      "source": [
        "# SmartPave Analytics: Feature Engineering\n",
        "\n",
        "## Overview\n",
        "This notebook creates advanced features for machine learning models to predict pavement degradation and optimize maintenance costs.\n",
        "\n",
        "## Objectives\n",
        "- Create time-based features\n",
        "- Engineer traffic impact features\n",
        "- Develop weather impact metrics\n",
        "- Create maintenance history features\n",
        "- Prepare data for ML modeling\n"
      ]
    },
    {
      "cell_type": "code",
      "execution_count": null,
      "metadata": {},
      "outputs": [],
      "source": [
        "# Load data from Snowflake and create features\n",
        "import pandas as pd\n",
        "import numpy as np\n",
        "from datetime import datetime, timedelta\n",
        "import warnings\n",
        "warnings.filterwarnings('ignore')\n",
        "\n",
        "# Connect to Snowflake\n",
        "from snowflake.snowpark.context import get_active_session\n",
        "session = get_active_session()\n",
        "\n",
        "# Load pavement condition data\n",
        "df = session.sql(\"SELECT * FROM pavement_condition\").to_pandas()\n",
        "df['date'] = pd.to_datetime(df['date'])\n",
        "\n",
        "print(f\"Loaded dataset: {len(df):,} records\")\n",
        "print(f\"Date range: {df['date'].min()} to {df['date'].max()}\")\n",
        "print(f\"Unique segments: {df['segment_id'].nunique():,}\")\n",
        "\n",
        "# Load maintenance data for feature engineering\n",
        "maintenance_df = session.sql(\"SELECT * FROM maintenance_records\").to_pandas()\n",
        "maintenance_df['date'] = pd.to_datetime(maintenance_df['date'])\n"
      ]
    }
  ],
  "metadata": {
    "language_info": {
      "name": "python"
    }
  },
  "nbformat": 4,
  "nbformat_minor": 2
}
